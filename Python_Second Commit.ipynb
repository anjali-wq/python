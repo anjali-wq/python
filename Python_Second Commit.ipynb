{
 "cells": [
  {
   "cell_type": "code",
   "execution_count": 3,
   "metadata": {},
   "outputs": [],
   "source": [
    "\n",
    "class StudentRecords:\n",
    "    def __init__(self, records):\n",
    "        self.records = records\n",
    "\n",
    "\n",
    "\n",
    " \n",
    "\n",
    "    def add(self):\n",
    "        student_id_loop_active, student_full_name_loop_active, student_course_number_loop_active = True\n",
    "\n",
    "        while student_id_loop_active:\n",
    "            student_id = input('Enter your 8 digit student_id > ')\n",
    "            # gets array of existing_ids\n",
    "            existing_ids = [i[0] for i in self.records]\n",
    "\n",
    "            try:\n",
    "                student_id = int(student_id)\n",
    "            except:\n",
    "                print('student_id must be a number with no decimal points')\n",
    "            \n",
    "                continue\n",
    "\n",
    "            if not len(str(student_id)) == 8:\n",
    "                print('student_id must be 8 digits long')\n",
    "\n",
    "                continue\n",
    "\n",
    "            if int(student_id) in existing_ids:\n",
    "                print('That id already exists')\n",
    "\n",
    "\n",
    "          \n",
    "       \n",
    " \n",
    "    \n"
   ]
  },
  {
   "cell_type": "code",
   "execution_count": null,
   "metadata": {},
   "outputs": [],
   "source": []
  }
 ],
 "metadata": {
  "kernelspec": {
   "display_name": "Python 3",
   "language": "python",
   "name": "python3"
  },
  "language_info": {
   "codemirror_mode": {
    "name": "ipython",
    "version": 3
   },
   "file_extension": ".py",
   "mimetype": "text/x-python",
   "name": "python",
   "nbconvert_exporter": "python",
   "pygments_lexer": "ipython3",
   "version": "3.7.3"
  }
 },
 "nbformat": 4,
 "nbformat_minor": 2
}
